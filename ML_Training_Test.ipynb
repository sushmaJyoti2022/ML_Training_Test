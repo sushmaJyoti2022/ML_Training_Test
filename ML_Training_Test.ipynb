{
 "cells": [
  {
   "cell_type": "markdown",
   "id": "103ffc3d",
   "metadata": {},
   "source": [
    "### 1)\tWrite a program to count the sub_string from main string\n",
    "##### Example:- A B C D C D C\n",
    "##### Sub_string= C D C result =2\n"
   ]
  },
  {
   "cell_type": "code",
   "execution_count": 1,
   "id": "b1d24358",
   "metadata": {},
   "outputs": [
    {
     "name": "stdout",
     "output_type": "stream",
     "text": [
      "Result = 2\n"
     ]
    }
   ],
   "source": [
    "def count_substring(main_string, sub_string):\n",
    "    count = 0\n",
    "    sub_length = len(sub_string)\n",
    "    \n",
    "    # Loop through the main string to find the occurrences of the sub_string\n",
    "    for i in range(len(main_string) - sub_length + 1):\n",
    "        if main_string[i:i + sub_length] == sub_string:\n",
    "            count += 1\n",
    "    return count\n",
    "main_string = \"A B C D C D C\"\n",
    "sub_string = \"C D C\"\n",
    "result = count_substring(main_string, sub_string)\n",
    "print(\"Result =\", result)\n"
   ]
  },
  {
   "cell_type": "markdown",
   "id": "764d74c1",
   "metadata": {},
   "source": [
    "### 2)\tWrite a program to take 4 number and store in list [2,4,6,8] find the factorial of the each number of the list and store the value  in the list \n"
   ]
  },
  {
   "cell_type": "code",
   "execution_count": 2,
   "id": "47007650",
   "metadata": {},
   "outputs": [
    {
     "name": "stdout",
     "output_type": "stream",
     "text": [
      "Factorials of the numbers in the list: [2, 24, 720, 40320]\n"
     ]
    }
   ],
   "source": [
    "import math\n",
    "\n",
    "numbers = [2, 4, 6, 8]\n",
    "\n",
    "factorials = [math.factorial(num) for num in numbers]\n",
    "print(\"Factorials of the numbers in the list:\", factorials)\n"
   ]
  },
  {
   "cell_type": "markdown",
   "id": "967c6d29",
   "metadata": {},
   "source": [
    "### 3) Create a strong password combining words, numbers and characters. (* )Keep creating the new password until you find one you like  .\n"
   ]
  },
  {
   "cell_type": "code",
   "execution_count": 3,
   "id": "b460a6b4",
   "metadata": {},
   "outputs": [
    {
     "name": "stdout",
     "output_type": "stream",
     "text": [
      "Generated Password: mP*wY`7QM('.\n",
      "Do you like this password? (yes/no): no\n",
      "Generated Password: _2V\\cZyoIaom\n",
      "Do you like this password? (yes/no): no\n",
      "Generated Password: 9TRQ&-J5<pu2\n",
      "Do you like this password? (yes/no): no\n",
      "Generated Password: M=?T6=KV:VqG\n",
      "Do you like this password? (yes/no): no\n",
      "Generated Password: >tAb\"|Y#)#s&\n",
      "Do you like this password? (yes/no): no\n",
      "Generated Password: ,.A]~v~'Y-w^\n",
      "Do you like this password? (yes/no): no\n",
      "Generated Password: =rb=]+,2g72B\n",
      "Do you like this password? (yes/no): no\n",
      "Generated Password: hS#r-<*L-4C_\n",
      "Do you like this password? (yes/no): no\n",
      "Generated Password: vYJ\"UA.84N87\n",
      "Do you like this password? (yes/no): no\n",
      "Generated Password: `6[#~-!^m;+:\n",
      "Do you like this password? (yes/no): no\n",
      "Generated Password: 7vhP7&C+STyv\n",
      "Do you like this password? (yes/no): yes\n"
     ]
    }
   ],
   "source": [
    "import random\n",
    "import string\n",
    "\n",
    "def generate_password(length=12):\n",
    "    characters = string.ascii_letters + string.digits + string.punctuation\n",
    "    password = ''.join(random.choice(characters) for _ in range(length))\n",
    "    return password\n",
    "\n",
    "while True:\n",
    "    new_password = generate_password()\n",
    "    print(\"Generated Password:\", new_password)\n",
    "    satisfied = input(\"Do you like this password? (yes/no): \").strip().lower()\n",
    "    if satisfied == \"yes\":\n",
    "        break\n"
   ]
  },
  {
   "cell_type": "markdown",
   "id": "d021806a",
   "metadata": {},
   "source": [
    "### 4) Checking of the vowels inside the string"
   ]
  },
  {
   "cell_type": "code",
   "execution_count": 5,
   "id": "211776e6",
   "metadata": {},
   "outputs": [
    {
     "name": "stdout",
     "output_type": "stream",
     "text": [
      "Vowels in the string: ['e', 'o', 'o', 'o']\n"
     ]
    }
   ],
   "source": [
    "def check_vowels(input_string):\n",
    "    vowels = \"aeiouAEIOU\"\n",
    "    found_vowels = [char for char in input_string if char in vowels]\n",
    "    return found_vowels\n",
    "\n",
    "input_string = \"Hellooo !!!\"\n",
    "vowels_in_string = check_vowels(input_string)\n",
    "print(\"Vowels in the string:\", vowels_in_string)\n"
   ]
  },
  {
   "cell_type": "markdown",
   "id": "3e240428",
   "metadata": {},
   "source": [
    "### 5) A python program to access each element of a string in forward and reverse orders using while loop ."
   ]
  },
  {
   "cell_type": "code",
   "execution_count": 6,
   "id": "b2355461",
   "metadata": {},
   "outputs": [
    {
     "name": "stdout",
     "output_type": "stream",
     "text": [
      "Forward Order:\n",
      "P\n",
      "y\n",
      "t\n",
      "h\n",
      "o\n",
      "n\n",
      "Reverse Order:\n",
      "n\n",
      "o\n",
      "h\n",
      "t\n",
      "y\n",
      "P\n"
     ]
    }
   ],
   "source": [
    "input_string = \"Python\"\n",
    "\n",
    "\n",
    "i = 0\n",
    "print(\"Forward Order:\")\n",
    "while i < len(input_string):\n",
    "    print(input_string[i])\n",
    "    i += 1\n",
    "\n",
    "\n",
    "i = len(input_string) - 1\n",
    "print(\"Reverse Order:\")\n",
    "while i >= 0:\n",
    "    print(input_string[i])\n",
    "    i -= 1\n"
   ]
  },
  {
   "cell_type": "markdown",
   "id": "e430f023",
   "metadata": {},
   "source": [
    "### 6) Write a python program to know whether a sub- string exists in main string ."
   ]
  },
  {
   "cell_type": "code",
   "execution_count": 8,
   "id": "b8c75ad8",
   "metadata": {},
   "outputs": [
    {
     "name": "stdout",
     "output_type": "stream",
     "text": [
      "Does 'is' exist in the main string? True\n"
     ]
    }
   ],
   "source": [
    "def check_substring(main_string, sub_string):\n",
    "    return sub_string in main_string\n",
    "\n",
    "main_string = \"This is a sample string.\"\n",
    "sub_string = \"is\"\n",
    "exists = check_substring(main_string, sub_string)\n",
    "print(f\"Does '{sub_string}' exist in the main string? {exists}\")\n"
   ]
  },
  {
   "cell_type": "markdown",
   "id": "8511ff29",
   "metadata": {},
   "source": [
    "### 7)\tA python program to find the first occurrences of sub string in a given main string ."
   ]
  },
  {
   "cell_type": "code",
   "execution_count": 10,
   "id": "7630e4bb",
   "metadata": {},
   "outputs": [
    {
     "name": "stdout",
     "output_type": "stream",
     "text": [
      "First occurrence of 'main' is at index 10\n"
     ]
    }
   ],
   "source": [
    "def find_first_occurrence(main_string, sub_string):\n",
    "    index = main_string.find(sub_string)\n",
    "    return index\n",
    "\n",
    "main_string = \"This is a main string.\"\n",
    "sub_string = \"main\"\n",
    "index = find_first_occurrence(main_string, sub_string)\n",
    "print(f\"First occurrence of '{sub_string}' is at index {index}\")\n"
   ]
  },
  {
   "cell_type": "markdown",
   "id": "131faf2d",
   "metadata": {},
   "source": [
    "### 8)\tA python program to insert a sub string in main string in a particular position\n",
    "##### Example:- enter a string :- It is summer.\n",
    "##### Enter sub_string;- hot\n",
    "##### Enter position no:- 7\n",
    "##### Result :- It is hot summer .\n"
   ]
  },
  {
   "cell_type": "code",
   "execution_count": 15,
   "id": "403905e0",
   "metadata": {},
   "outputs": [
    {
     "name": "stdout",
     "output_type": "stream",
     "text": [
      "Result: It is hot summer.\n"
     ]
    }
   ],
   "source": [
    "def insert_substring(main_string, sub_string, position):\n",
    "    # Insert the substring into the main string at the given position\n",
    "    result = main_string[:position] + sub_string + \" \" + main_string[position:]\n",
    "    return result\n",
    "\n",
    "main_string = \"It is summer.\"\n",
    "sub_string = \"hot\"\n",
    "position = 6\n",
    "result = insert_substring(main_string, sub_string, position)\n",
    "print(\"Result:\", result)\n"
   ]
  },
  {
   "cell_type": "code",
   "execution_count": null,
   "id": "f7639ade",
   "metadata": {},
   "outputs": [],
   "source": []
  },
  {
   "cell_type": "code",
   "execution_count": null,
   "id": "b33ba590",
   "metadata": {},
   "outputs": [],
   "source": []
  }
 ],
 "metadata": {
  "kernelspec": {
   "display_name": "Python 3 (ipykernel)",
   "language": "python",
   "name": "python3"
  },
  "language_info": {
   "codemirror_mode": {
    "name": "ipython",
    "version": 3
   },
   "file_extension": ".py",
   "mimetype": "text/x-python",
   "name": "python",
   "nbconvert_exporter": "python",
   "pygments_lexer": "ipython3",
   "version": "3.11.3"
  }
 },
 "nbformat": 4,
 "nbformat_minor": 5
}
